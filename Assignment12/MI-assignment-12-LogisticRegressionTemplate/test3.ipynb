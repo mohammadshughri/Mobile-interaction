{
 "cells": [
  {
   "cell_type": "code",
   "execution_count": 4,
   "metadata": {},
   "outputs": [
    {
     "ename": "SyntaxError",
     "evalue": "invalid syntax (2977960361.py, line 1)",
     "output_type": "error",
     "traceback": [
      "\u001b[1;36m  Cell \u001b[1;32mIn[4], line 1\u001b[1;36m\u001b[0m\n\u001b[1;33m    pip install dtw-python\u001b[0m\n\u001b[1;37m        ^\u001b[0m\n\u001b[1;31mSyntaxError\u001b[0m\u001b[1;31m:\u001b[0m invalid syntax\n"
     ]
    }
   ],
   "source": [
    "pip install dtw-python\n"
   ]
  },
  {
   "cell_type": "code",
   "execution_count": 2,
   "metadata": {},
   "outputs": [
    {
     "name": "stdout",
     "output_type": "stream",
     "text": [
      "Importing the dtw module. When using in academic works please cite:\n",
      "  T. Giorgino. Computing and Visualizing Dynamic Time Warping Alignments in R: The dtw Package.\n",
      "  J. Stat. Soft., doi:10.18637/jss.v031.i07.\n",
      "\n"
     ]
    },
    {
     "ename": "AttributeError",
     "evalue": "'DTW' object has no attribute 'costMatrix'",
     "output_type": "error",
     "traceback": [
      "\u001b[1;31m---------------------------------------------------------------------------\u001b[0m",
      "\u001b[1;31mAttributeError\u001b[0m                            Traceback (most recent call last)",
      "Cell \u001b[1;32mIn[2], line 15\u001b[0m\n\u001b[0;32m     12\u001b[0m minimal_cost \u001b[38;5;241m=\u001b[39m alignment\u001b[38;5;241m.\u001b[39mdistance\n\u001b[0;32m     14\u001b[0m \u001b[38;5;66;03m# Extract the DTW matrix (cumulative cost matrix)\u001b[39;00m\n\u001b[1;32m---> 15\u001b[0m cost_matrix \u001b[38;5;241m=\u001b[39m alignment\u001b[38;5;241m.\u001b[39mcostMatrix\n\u001b[0;32m     17\u001b[0m \u001b[38;5;66;03m# Print the DTW matrix and the minimal cost\u001b[39;00m\n\u001b[0;32m     18\u001b[0m \u001b[38;5;28mprint\u001b[39m(\u001b[38;5;124m\"\u001b[39m\u001b[38;5;124mDTW Matrix:\u001b[39m\u001b[38;5;124m\"\u001b[39m)\n",
      "\u001b[1;31mAttributeError\u001b[0m: 'DTW' object has no attribute 'costMatrix'"
     ]
    }
   ],
   "source": [
    "from dtw import dtw\n",
    "import numpy as np\n",
    "\n",
    "# Define the sequences\n",
    "template = np.array([9, 7, 6, 5, 4, 1, 8, 11, 6, 3, 3, 1, 2])\n",
    "input_seq = np.array([7, 7, 2, 9, 1, 1])\n",
    "\n",
    "# Perform DTW using the dtw-python library\n",
    "alignment = dtw(template, input_seq)\n",
    "\n",
    "# Extract the minimal cost\n",
    "minimal_cost = alignment.distance\n",
    "\n",
    "# Extract the DTW matrix (cumulative cost matrix)\n",
    "cost_matrix = alignment.costMatrix\n",
    "\n",
    "# Print the DTW matrix and the minimal cost\n",
    "print(\"DTW Matrix:\")\n",
    "print(cost_matrix)\n",
    "print(\"Minimal Cost:\", minimal_cost)"
   ]
  }
 ],
 "metadata": {
  "kernelspec": {
   "display_name": "base",
   "language": "python",
   "name": "python3"
  },
  "language_info": {
   "codemirror_mode": {
    "name": "ipython",
    "version": 3
   },
   "file_extension": ".py",
   "mimetype": "text/x-python",
   "name": "python",
   "nbconvert_exporter": "python",
   "pygments_lexer": "ipython3",
   "version": "3.11.7"
  }
 },
 "nbformat": 4,
 "nbformat_minor": 2
}
